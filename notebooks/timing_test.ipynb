{
 "cells": [
  {
   "cell_type": "code",
   "execution_count": 3,
   "metadata": {},
   "outputs": [],
   "source": [
    "import kilonovanet\n",
    "import numpy as np\n",
    "import time\n",
    "\n",
    "metadata_file = \"../data/metadata_kasen_bns.json\"\n",
    "torch_file = \"../models/kasen-bns-latent-10-hidden-500-CV-4-2021-04-17-epoch-200.pt\"\n",
    "times = np.array([2.2])\n",
    "physical_parameters = np.array([2.50e-3, 3.0e-2, 1.0e-1])\n",
    "\n",
    "\n",
    "model = kilonovanet.Model(metadata_file, torch_file)\n"
   ]
  },
  {
   "cell_type": "code",
   "execution_count": 4,
   "metadata": {},
   "outputs": [
    {
     "name": "stdout",
     "output_type": "stream",
     "text": [
      "0.4711437225341797\n"
     ]
    }
   ],
   "source": [
    "timing = []\n",
    "for i in range(100):\n",
    "    time_a = time.time()\n",
    "    spectra = model.predict_spectra(physical_parameters, times)\n",
    "    time_b = time.time()\n",
    "    timing.append(time_b - time_a)\n",
    "\n",
    "print(np.mean(timing)*1000) # milliseconds"
   ]
  }
 ],
 "metadata": {
  "interpreter": {
   "hash": "41d1243b9ebd232d682aa67babb07a3d342f94a7c0c8e64a72e0204114e42735"
  },
  "kernelspec": {
   "display_name": "Python 3.7.0 64-bit ('ksm': conda)",
   "language": "python",
   "name": "python3"
  },
  "language_info": {
   "codemirror_mode": {
    "name": "ipython",
    "version": 3
   },
   "file_extension": ".py",
   "mimetype": "text/x-python",
   "name": "python",
   "nbconvert_exporter": "python",
   "pygments_lexer": "ipython3",
   "version": "3.7.0"
  },
  "orig_nbformat": 4
 },
 "nbformat": 4,
 "nbformat_minor": 2
}
